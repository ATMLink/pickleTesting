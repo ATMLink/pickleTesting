{
 "cells": [
  {
   "cell_type": "code",
   "execution_count": 2,
   "id": "ec812686-af20-411b-8581-717f35537663",
   "metadata": {},
   "outputs": [
    {
     "name": "stdout",
     "output_type": "stream",
     "text": [
      "[+] Written 'pickle_p4_py3.9.json'\n"
     ]
    }
   ],
   "source": [
    "# Cell 1: 生成各对象的 pickle(hex) 并存 JSON\n",
    "\n",
    "import sys, pickle, json\n",
    "from collections import namedtuple, deque, OrderedDict, defaultdict, ChainMap\n",
    "import re, datetime, uuid, decimal\n",
    "\n",
    "Point = namedtuple('Point', ['x','y'])\n",
    "\n",
    "objects = {\n",
    "    # 基本容器\n",
    "    'bytes':     b'\\x00\\x01\\x02',\n",
    "    'bytearray': bytearray([10,20,30]),\n",
    "    'set':       {1,2,3},\n",
    "    'frozenset': frozenset([4,5,6]),\n",
    "    'range':     range(5,10),\n",
    "    # 标准库容器\n",
    "    'deque':       deque([7,8,9]),\n",
    "    'OrderedDict': OrderedDict(a=1,b=2),\n",
    "    'defaultdict': defaultdict(int, x=10),\n",
    "    'ChainMap':    ChainMap({'a':1},{'b':2}),\n",
    "    # 数值与日期\n",
    "    'complex':     3+4j,\n",
    "    'decimal':     decimal.Decimal('12.34'),\n",
    "    'datetime':    datetime.datetime(2020,1,2,3,4,5,tzinfo=datetime.timezone.utc),\n",
    "    'date':        datetime.date(2021,12,31),\n",
    "    'time':        datetime.time(23,59,59),\n",
    "    'timedelta':   datetime.timedelta(days=2, hours=5),\n",
    "    # 正则与 UUID\n",
    "    'regex':       re.compile(r'\\w+\\d*'),\n",
    "    'uuid':        uuid.UUID('12345678-1234-5678-1234-567812345678'),\n",
    "    # 自定义类型\n",
    "    'namedtuple':  Point(5,6),\n",
    "}\n",
    "\n",
    "protocol = 4\n",
    "py_ver = f\"{sys.version_info.major}.{sys.version_info.minor}\"\n",
    "out = {}\n",
    "\n",
    "for name, obj in objects.items():\n",
    "    data = pickle.dumps(obj, protocol=protocol)\n",
    "    out[name] = data.hex()\n",
    "\n",
    "fn = f\"pickle_p{protocol}_py{py_ver}.json\"\n",
    "with open(fn, 'w', encoding='utf-8') as f:\n",
    "    json.dump(out, f, indent=2, ensure_ascii=False)\n",
    "\n",
    "print(f\"[+] Written {fn!r}\")\n"
   ]
  },
  {
   "cell_type": "code",
   "execution_count": null,
   "id": "b5b96ae0-5eaf-4394-bf90-cf1aba72e372",
   "metadata": {},
   "outputs": [],
   "source": []
  }
 ],
 "metadata": {
  "kernelspec": {
   "display_name": "Python 3.9",
   "language": "python",
   "name": "py39"
  },
  "language_info": {
   "codemirror_mode": {
    "name": "ipython",
    "version": 3
   },
   "file_extension": ".py",
   "mimetype": "text/x-python",
   "name": "python",
   "nbconvert_exporter": "python",
   "pygments_lexer": "ipython3",
   "version": "3.9.21"
  }
 },
 "nbformat": 4,
 "nbformat_minor": 5
}
